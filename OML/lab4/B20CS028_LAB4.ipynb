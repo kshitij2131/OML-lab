{
  "nbformat": 4,
  "nbformat_minor": 0,
  "metadata": {
    "colab": {
      "provenance": []
    },
    "kernelspec": {
      "name": "python3",
      "display_name": "Python 3"
    },
    "language_info": {
      "name": "python"
    }
  },
  "cells": [
    {
      "cell_type": "markdown",
      "source": [
        "#LAB4\n",
        "##OPTIMIZATION IN MACHINE LEARNING\n",
        "###kshitij jaiswal (b20cs028)"
      ],
      "metadata": {
        "id": "AUbDNLEzADM7"
      }
    },
    {
      "cell_type": "code",
      "source": [
        "import numpy as np\n",
        "from cvxopt import matrix, solvers"
      ],
      "metadata": {
        "id": "za8pUTDUAfzD"
      },
      "execution_count": null,
      "outputs": []
    },
    {
      "cell_type": "code",
      "execution_count": null,
      "metadata": {
        "colab": {
          "base_uri": "https://localhost:8080/"
        },
        "id": "xejpEjel_9Ib",
        "outputId": "79404fb9-9ed4-4fe9-8bca-89a96b2bed5f"
      },
      "outputs": [
        {
          "output_type": "stream",
          "name": "stdout",
          "text": [
            "     pcost       dcost       gap    pres   dres   k/t\n",
            " 0:  5.7047e+00  9.9982e+00  2e+01  4e-01  1e+00  1e+00\n",
            " 1:  5.5660e+00  6.4286e+00  1e+00  7e-02  2e-01  3e-01\n",
            " 2: -2.9860e+00  5.0740e+01  6e+03  2e+00  5e+00  4e+01\n",
            " 3:  4.4972e+00  9.8214e+01  3e+03  2e-01  6e-01  9e+01\n",
            " 4:  4.4985e+00  9.1329e+03  3e+05  2e-01  6e-01  9e+03\n",
            " 5:  4.4985e+00  9.1261e+05  3e+07  2e-01  6e-01  9e+05\n",
            " 6:  4.4985e+00  9.1260e+07  3e+09  2e-01  6e-01  9e+07\n",
            "Certificate of primal infeasibility found.\n",
            "     pcost       dcost       gap    pres   dres   k/t\n",
            " 0:  9.1085e+00  1.4601e+01  3e+01  4e-01  1e+00  1e+00\n",
            " 1:  9.1442e+00  1.0121e+01  3e+00  6e-02  2e-01  4e-01\n",
            " 2:  1.0175e+01  1.0218e+01  1e-01  3e-03  8e-03  1e-02\n",
            " 3:  1.0200e+01  1.0200e+01  1e-03  3e-05  8e-05  1e-04\n",
            " 4:  1.0200e+01  1.0200e+01  1e-05  3e-07  8e-07  1e-06\n",
            " 5:  1.0200e+01  1.0200e+01  1e-07  3e-09  8e-09  1e-08\n",
            "Optimal solution found.\n",
            "[[0.6]\n",
            " [1.2]] 10.199999974652686\n"
          ]
        }
      ],
      "source": [
        "#1\n",
        "A = np.array([[1, 2], [-4, -3], [3, 1], [-3, -1], [1, 0], [-1, 0], [0, -1]])\n",
        "b1 = np.array([[3], [-6], [3], [-3], [1], [-15/17], [0]])\n",
        "c1 = np.array([5, 2])\n",
        "\n",
        "b2 = np.array([[3], [-6], [3], [-3], [15/17], [0], [0]])\n",
        "c2 = np.array([3, 7])\n",
        "\n",
        "soln1 = solvers.lp(matrix(c1, tc='d'), matrix(A, tc='d'), matrix(b1, tc='d'))\n",
        "soln2 = solvers.lp(matrix(c2, tc='d'), matrix(A, tc='d'), matrix(b2, tc='d'))\n",
        "\n",
        "# print(np.round_(soln1['x'], decimals=5), soln1['primal objective']) --> gives unbounded solution...\n",
        "print(np.round_(soln2['x'], decimals=5), soln2['primal objective'])"
      ]
    },
    {
      "cell_type": "markdown",
      "source": [
        "Optimal solutions occurs at (x1, x2) = (0,6, 1.2) and the optimum value of Z is 10.2"
      ],
      "metadata": {
        "id": "fa6LLHi28Uum"
      }
    },
    {
      "cell_type": "code",
      "source": [
        "#2\n",
        "n = 3\n",
        "m = 5\n",
        "\n",
        "A = np.zeros(((n<<1)+m+(n*m), n*m))\n",
        "\n",
        "for i in range(0, n<<1, 2):\n",
        "    for j in range((i>>1)*m, ((i>>1)+1)*m):\n",
        "        # print(i, j)\n",
        "        A[i][j] = 1\n",
        "        A[i+1][j] = -1\n",
        "\n",
        "\n",
        "for i in range(n<<1, (n<<1)+m):\n",
        "    for j in range(0, n*m, m):\n",
        "        A[i,j + (i-(n<<1))%m] = 1\n",
        "\n",
        "\n",
        "for i in range((n<<1)+m, (n<<1)+m+(n*m)):\n",
        "    A[i, i-((n<<1)+m)]=-1\n",
        "\n",
        "# for i in range((n<<1)+m+(n*m)):\n",
        "#     for j in range(n*m):\n",
        "#         print(int(A[i, j]), end=\" \")\n",
        "#     print(\"\\n\")\n",
        "\n",
        "# print(A)\n",
        "\n",
        "b = np.array([[8], [-8], [12], [-12],[14], [-14], [7], [5], [6], [8], [8]])\n",
        "b = np.row_stack((b, np.zeros((n*m, 1))))\n",
        "# print(b)\n",
        "\n",
        "c = np.array([[4], [2], [3], [2], [6], [5], [4], [5], [2], [1], [6], [5], [4], [7], [7]])\n",
        "\n",
        "# # print(A)\n",
        "# # print(B)\n",
        "\n",
        "soln = solvers.lp(matrix(c, tc='d'), matrix(A, tc='d'), matrix(b, tc='d'))\n",
        "print(np.round_(soln['x'], decimals=5), soln['primal objective'])"
      ],
      "metadata": {
        "colab": {
          "base_uri": "https://localhost:8080/"
        },
        "id": "3e6M9cOyAWb3",
        "outputId": "0081fab3-6c66-4672-9793-ed4f11a240c6"
      },
      "execution_count": null,
      "outputs": [
        {
          "output_type": "stream",
          "name": "stdout",
          "text": [
            "     pcost       dcost       gap    pres   dres   k/t\n",
            " 0:  1.3932e+02  1.9545e+01  3e+02  3e-01  2e-16  1e+00\n",
            " 1:  1.1599e+02  7.3132e+01  1e+02  1e-01  7e-16  2e+00\n",
            " 2:  1.0596e+02  1.0016e+02  1e+01  2e-02  4e-15  3e-01\n",
            " 3:  1.0314e+02  1.0238e+02  2e+00  2e-03  4e-15  5e-02\n",
            " 4:  1.0300e+02  1.0299e+02  3e-02  4e-05  5e-16  9e-04\n",
            " 5:  1.0300e+02  1.0300e+02  3e-04  4e-07  2e-15  9e-06\n",
            " 6:  1.0300e+02  1.0300e+02  3e-06  4e-09  2e-15  9e-08\n",
            "Optimal solution found.\n",
            "[[0.]\n",
            " [4.]\n",
            " [0.]\n",
            " [4.]\n",
            " [0.]\n",
            " [0.]\n",
            " [0.]\n",
            " [0.]\n",
            " [4.]\n",
            " [8.]\n",
            " [7.]\n",
            " [1.]\n",
            " [6.]\n",
            " [0.]\n",
            " [0.]] 103.00000034914879\n"
          ]
        }
      ]
    },
    {
      "cell_type": "markdown",
      "source": [
        "Transportations that occurs in the optimal case --\n",
        "1. D1 --> S2 - 4 units\n",
        "2. D1 --> S4 - 4 units\n",
        "3. D2 --> S4 - 4 units\n",
        "4. D2 --> S5 - 8 units\n",
        "5. D3 --> S1 - 7 units\n",
        "6. D3 --> S2 - 1 unit\n",
        "7. D3 --> S3 - 6 units\n",
        "Minimum Cost of above transportations - 103"
      ],
      "metadata": {
        "id": "oFA7dhFE8sii"
      }
    },
    {
      "cell_type": "code",
      "source": [
        "#3\n",
        "A = np.array([[1, 1, 1, 0, 0, 0, 0, 0, 0], [-1, -1, -1, 0, 0, 0, 0, 0, 0], [-1, 0, 0, 1, 1, 0, 0, 0, 0],\n",
        "              [1, 0, 0, -1, -1, 0, 0, 0, 0], [0, -1, 0, -1, 0, 1, 1, 0, 0], [0, 1, 0, 1, 0, -1, -1, 0, 0],\n",
        "              [0, 0, 0, 0, -1, -1, 0, 1, 0], [0, 0, 0, 0, 1, 1, 0, -1, 0], [0, 0, -1, 0, 0, 0, -1, 0, 1],\n",
        "              [0, 0, 1, 0, 0, 0, 1, 0, -1], [0, 0, 0, 0, 0, 0, 0, -1, -1], [0, 0, 0, 0, 0, 0, 0, 1, 1],\n",
        "              [-1, 0, 0, 0, 0, 0, 0, 0, 0], [0, -1, 0, 0, 0, 0, 0, 0, 0], [0, 0, -1, 0, 0, 0, 0, 0, 0],\n",
        "              [0, 0, 0, -1, 0, 0, 0, 0, 0], [0, 0, 0, 0, -1, 0, 0, 0, 0], [0, 0, 0, 0, 0, -1, 0, 0, 0],\n",
        "              [0, 0, 0, 0, 0, 0, -1, 0, 0], [0, 0, 0, 0, 0, 0, 0, -1, 0], [0, 0, 0, 0, 0, 0, 0, 0, -1]])\n",
        "b = np.array([[1], [-1], [3], [-3], [0], [0], [0], [0], [0], [0], [-4], [4], [0], [0], [0], [0], [0], [0], [0], [0], [0]])\n",
        "c = np.array([[2], [3], [3], [2], [4], [1], [2], [3], [1]])\n",
        "\n",
        "soln = solvers.lp(matrix(c, tc='d'), matrix(A, tc='d'), matrix(b, tc='d'))\n",
        "\n",
        "print(np.round_(soln['x'], decimals=5), soln['primal objective'])"
      ],
      "metadata": {
        "colab": {
          "base_uri": "https://localhost:8080/"
        },
        "id": "92u9n9Y4AiS5",
        "outputId": "a1900366-2fdd-486d-b9a8-417b9f477a8e"
      },
      "execution_count": null,
      "outputs": [
        {
          "output_type": "stream",
          "name": "stdout",
          "text": [
            "     pcost       dcost       gap    pres   dres   k/t\n",
            " 0:  1.6755e+01  1.6755e+01  1e+02  1e+00  9e-01  1e+00\n",
            " 1:  1.9879e+01  2.0379e+01  1e+01  2e-01  1e-01  7e-01\n",
            " 2:  1.9159e+01  1.9241e+01  2e+00  3e-02  2e-02  1e-01\n",
            " 3:  1.9002e+01  1.9003e+01  2e-02  3e-04  3e-04  1e-03\n",
            " 4:  1.9000e+01  1.9000e+01  2e-04  3e-06  3e-06  1e-05\n",
            " 5:  1.9000e+01  1.9000e+01  2e-06  3e-08  3e-08  1e-07\n",
            "Optimal solution found.\n",
            "[[-0.]\n",
            " [ 0.]\n",
            " [ 1.]\n",
            " [ 3.]\n",
            " [-0.]\n",
            " [ 0.]\n",
            " [ 3.]\n",
            " [ 0.]\n",
            " [ 4.]] 19.000000160934945\n"
          ]
        }
      ]
    },
    {
      "cell_type": "markdown",
      "source": [
        "Initially there was 1 wagon at Node 1 and 3 wagons at Node 2.\n",
        "Optimum Path for wagon transportations -\n",
        "1. wagon at Node 1 follows the path 1 --> 3 --> 5 --> 6.\n",
        "2. All 3 wagons at Node 2 follow the path 2 --> 3 --> 5 --> 6.\n",
        "\n",
        "Optimum Cost for transportations of wagon is 19."
      ],
      "metadata": {
        "id": "wuKIdzo491fR"
      }
    },
    {
      "cell_type": "code",
      "source": [
        "#4\n",
        "A = np.array([[1, 1, 0, 0, 0], [-1, -1, 0, 0, 0], [-1, 0, 1, 1, 0], [1, 0, -1, -1, 0], [0, -1, -1, 0, 1],\n",
        "              [0, 1, 1, 0, -1], [0, 0, 0, -1, -1], [0, 0, 0, 1, 1], [1, 0, 0, 0, 0], [0, 1, 0, 0, 0],\n",
        "              [0, 0, 1, 0, 0], [0, 0, 0, 1, 0], [0, 0, 0, 0, 1], [-1, 0, 0, 0, 0], [0, -1, 0, 0, 0],\n",
        "              [0, 0, -1, 0, 0], [0, 0, 0, -1, 0], [0, 0, 0, 0, -1]])\n",
        "b = np.array([[2], [-2], [2], [-2], [-2], [2], [-2], [2], [1], [3], [2], [2], [3], [0], [0], [0], [0], [0]])\n",
        "c = np.array([[1], [5], [1], [4], [2]])\n",
        "\n",
        "soln = solvers.lp(matrix(c, tc='d'), matrix(A, tc='d'), matrix(b, tc='d'))\n",
        "\n",
        "print(np.round_(soln['x'], decimals=5), soln['primal objective'])"
      ],
      "metadata": {
        "colab": {
          "base_uri": "https://localhost:8080/"
        },
        "id": "RYNTaLlLAmb1",
        "outputId": "d30fa5d4-6713-4d83-ad12-b2f677dfb2ec"
      },
      "execution_count": null,
      "outputs": [
        {
          "output_type": "stream",
          "name": "stdout",
          "text": [
            "     pcost       dcost       gap    pres   dres   k/t\n",
            " 0:  1.6200e+01 -6.9000e+00  7e+01  7e-01  3e-16  1e+00\n",
            " 1:  1.3537e+01  1.1368e+01  5e+00  7e-02  5e-16  4e-01\n",
            " 2:  1.3984e+01  1.3810e+01  4e-01  6e-03  1e-15  3e-02\n",
            " 3:  1.4000e+01  1.3997e+01  5e-03  8e-05  2e-15  4e-04\n",
            " 4:  1.4000e+01  1.4000e+01  5e-05  8e-07  4e-15  4e-06\n",
            " 5:  1.4000e+01  1.4000e+01  5e-07  8e-09  3e-15  4e-08\n",
            "Optimal solution found.\n",
            "[[1.]\n",
            " [1.]\n",
            " [2.]\n",
            " [1.]\n",
            " [1.]] 13.999999958536225\n"
          ]
        }
      ]
    },
    {
      "cell_type": "markdown",
      "source": [
        "Water that flows for each set of Nodes --\n",
        "1. 1 --> 2 - 1 unit\n",
        "2. 1 --> 3 - 1 unit\n",
        "3. 2 --> 3 - 2 units\n",
        "4. 2 --> 4 - 1 unit\n",
        "5. 3 --> 4 - 1 unit\n",
        "\n",
        "Optimum cost for the above water flow is 14."
      ],
      "metadata": {
        "id": "cf2FcpWG-X5E"
      }
    },
    {
      "cell_type": "code",
      "source": [
        "#5\n",
        "class node:\n",
        "\n",
        "    def __init__(self, val, edges) -> None:\n",
        "        self.val = val\n",
        "        self.incoming = []\n",
        "        self.outgoing = []\n",
        "        for (u, v) in edges:\n",
        "            if self.val == u:\n",
        "                self.outgoing.append(v)\n",
        "            if self.val == v:\n",
        "                self.incoming.append(u)\n",
        "\n",
        "if __name__ == '__main__':\n",
        "\n",
        "    numNodes = 10\n",
        "    numEdges = 20\n",
        "\n",
        "    start = 1\n",
        "    end = numNodes\n",
        "\n",
        "    edges = [(1, 2), (1, 3), (1, 4), (2, 5), (2, 6), (2, 7), (3, 5), (3, 6), (3, 7), (4, 5), (4, 6), (4, 7), (5, 8), (5, 9), (6, 8), (6, 9), (7, 8), (7, 9), (8, 10), (9, 10)]\n",
        "\n",
        "    lstNodes = []\n",
        "\n",
        "    for i in range(1, numNodes+1):\n",
        "        x = node(i, edges)\n",
        "        lstNodes.append(x)\n",
        "\n",
        "    A = np.zeros(((numNodes + numEdges)<<1, numEdges))\n",
        "\n",
        "    for i in range(0, numNodes<<1, 2):\n",
        "        obj = lstNodes[i>>1]\n",
        "        val = obj.val\n",
        "        for out in obj.outgoing:\n",
        "            A[i, edges.index((val, out))] = 1\n",
        "            A[i+1, edges.index((val, out))] = -1\n",
        "        for inc in obj.incoming:\n",
        "            A[i, edges.index((inc, val))] = -1\n",
        "            A[i+1, edges.index((inc, val))] = 1\n",
        "\n",
        "    for i in range(numNodes<<1, (numNodes<<1)+numEdges):\n",
        "        A[i, i-(numNodes<<1)] = -1\n",
        "        A[i+numEdges, i-(numNodes<<1)] = 1\n",
        "\n",
        "    # print(A)\n",
        "\n",
        "    b = np.zeros(((numNodes + numEdges)<<1, 1))\n",
        "    for i in range(0, numNodes<<1, 2):\n",
        "        nodeNum = (i>>1) + 1\n",
        "        if nodeNum == start:\n",
        "            b[i] = 1\n",
        "            b[i+1] = -1\n",
        "        elif nodeNum == end:\n",
        "            b[i] = -1\n",
        "            b[i+1] = 1\n",
        "        else:\n",
        "            b[i] = 0\n",
        "            b[i+1] = 0\n",
        "\n",
        "    for i in range((numNodes<<1)+numEdges, (numNodes + numEdges)<<1):\n",
        "        b[i] = 1\n",
        "\n",
        "    # print(b)\n",
        "    c = np.array([[4], [6], [6], [6], [8], [9], [5], [4], [6], [5], [5], [7], [6], [8], [4], [9], [3], [7], [9], [6]])\n",
        "\n",
        "    soln = solvers.lp(matrix(c, tc='d'), matrix(A, tc='d'), matrix(b, tc='d'))\n",
        "    print(np.round_(soln['x'], decimals=5), soln['primal objective'])"
      ],
      "metadata": {
        "colab": {
          "base_uri": "https://localhost:8080/"
        },
        "id": "x8AnsucNAp6O",
        "outputId": "9c1be740-3a4a-489e-9443-12a96abb85b7"
      },
      "execution_count": null,
      "outputs": [
        {
          "output_type": "stream",
          "name": "stdout",
          "text": [
            "     pcost       dcost       gap    pres   dres   k/t\n",
            " 0:  3.8337e+01 -5.8837e+01  5e+02  2e+00  3e-16  1e+00\n",
            " 1:  1.9212e+01  8.0898e+00  3e+01  2e-01  3e-16  6e-01\n",
            " 2:  2.3319e+01  2.0775e+01  6e+00  6e-02  3e-15  2e-01\n",
            " 3:  2.3010e+01  2.2468e+01  1e+00  1e-02  5e-15  3e-02\n",
            " 4:  2.3005e+01  2.2989e+01  4e-02  4e-04  1e-14  9e-04\n",
            " 5:  2.3000e+01  2.3000e+01  4e-04  4e-06  5e-14  9e-06\n",
            " 6:  2.3000e+01  2.3000e+01  4e-06  4e-08  3e-14  9e-08\n",
            "Optimal solution found.\n",
            "[[ 0.]\n",
            " [ 1.]\n",
            " [ 0.]\n",
            " [ 0.]\n",
            " [-0.]\n",
            " [ 0.]\n",
            " [-0.]\n",
            " [ 1.]\n",
            " [ 0.]\n",
            " [ 0.]\n",
            " [ 0.]\n",
            " [ 0.]\n",
            " [ 0.]\n",
            " [ 0.]\n",
            " [ 1.]\n",
            " [ 0.]\n",
            " [ 0.]\n",
            " [ 0.]\n",
            " [ 1.]\n",
            " [ 0.]] 23.000000521623715\n"
          ]
        }
      ]
    },
    {
      "cell_type": "markdown",
      "source": [
        "Shortest path from 1 --> 10 is 1 --> 3 --> 6 --> 8 --> 10. Hence the minimum cost is 6 + 4 + 4 + 9 = 23"
      ],
      "metadata": {
        "id": "7qyXttGb--Sw"
      }
    },
    {
      "cell_type": "code",
      "source": [
        "#6\n",
        "n = 4\n",
        "\n",
        "A = np.zeros(((n<<2) + n*n, n*n))\n",
        "\n",
        "for i in range(0, n<<1, 2):\n",
        "    for j in range((i>>1)*n, ((i>>1)+1)*n):\n",
        "        # print(i, j)\n",
        "        A[i][j] = 1\n",
        "        A[i+1][j] = -1\n",
        "\n",
        "\n",
        "for i in range(n<<1, n<<2, 2):\n",
        "    for j in range(0, n*n, n):\n",
        "        # print(i, j + (i>>1)%n)\n",
        "        A[i,j + (i>>1)%n] = 1\n",
        "        A[i+1,j + (i>>1)%n] = -1\n",
        "\n",
        "\n",
        "for i in range(n<<2, (n<<2) + n*n, 1):\n",
        "    A[i, i-(n<<2)]=-1\n",
        "\n",
        "# for i in range((n<<2)+(n*n)):\n",
        "#     for j in range(n*n):\n",
        "#         print(int(A[i, j]), end=\" \")\n",
        "#     print(\"\\n\")\n",
        "\n",
        "b = np.zeros(((n<<2) + n*n, 1))\n",
        "for i in range(n<<2):\n",
        "    if i&1:\n",
        "        b[i, 0] = -1\n",
        "    else:\n",
        "        b[i, 0] = 1\n",
        "\n",
        "c = np.array([[20], [28], [19], [13], [15], [30], [31], [28], [40], [21], [20], [17], [21], [28], [26], [12]])\n",
        "\n",
        "# print(A)\n",
        "# print(b)\n",
        "\n",
        "soln = solvers.lp(matrix(c, tc='d'), matrix(A, tc='d'), matrix(b, tc='d'))\n",
        "print(np.round_(soln['x'], decimals=5), soln['primal objective'])"
      ],
      "metadata": {
        "colab": {
          "base_uri": "https://localhost:8080/"
        },
        "id": "IyXSeL3hAxAE",
        "outputId": "f3b29a36-9787-446c-8271-50c73a830ebe"
      },
      "execution_count": null,
      "outputs": [
        {
          "output_type": "stream",
          "name": "stdout",
          "text": [
            "     pcost       dcost       gap    pres   dres   k/t\n",
            " 0:  8.6824e+01  8.6824e+01  4e+02  1e+00  5e-01  1e+00\n",
            " 1:  6.6618e+01  6.6857e+01  3e+01  1e-01  4e-02  3e-01\n",
            " 2:  6.7230e+01  6.7297e+01  4e+00  2e-02  6e-03  8e-02\n",
            " 3:  6.7002e+01  6.7003e+01  4e-02  2e-04  7e-05  9e-04\n",
            " 4:  6.7000e+01  6.7000e+01  4e-04  2e-06  7e-07  9e-06\n",
            " 5:  6.7000e+01  6.7000e+01  4e-06  2e-08  7e-09  9e-08\n",
            "Optimal solution found.\n",
            "[[ 0.]\n",
            " [ 0.]\n",
            " [ 1.]\n",
            " [ 0.]\n",
            " [ 1.]\n",
            " [ 0.]\n",
            " [ 0.]\n",
            " [-0.]\n",
            " [-0.]\n",
            " [ 1.]\n",
            " [ 0.]\n",
            " [ 0.]\n",
            " [ 0.]\n",
            " [ 0.]\n",
            " [ 0.]\n",
            " [ 1.]] 67.00000017775807\n"
          ]
        }
      ]
    },
    {
      "cell_type": "markdown",
      "source": [
        "Optimal distribution of Tasks (A - D) among Operators (1 - 4) is --\n",
        "3 does A\n",
        "1 does B\n",
        "2 does C\n",
        "4 does D\n",
        "Hence the minimum cost of operating all tasks is 67.\n"
      ],
      "metadata": {
        "id": "siefsRG8_ciU"
      }
    },
    {
      "cell_type": "code",
      "source": [
        "#7\n",
        "n = 5\n",
        "A = np.zeros(((n<<2) + n*n, n*n))\n",
        "\n",
        "for i in range(0, n<<1, 2):\n",
        "    for j in range((i>>1)*n, ((i>>1)+1)*n):\n",
        "        # print(i, j)\n",
        "        A[i][j] = 1\n",
        "        A[i+1][j] = -1\n",
        "\n",
        "for i in range(n<<1, n<<2, 2):\n",
        "    for j in range(0, n*n, n):\n",
        "        # print(i, j + (i>>1)%n)\n",
        "        A[i,j + (i>>1)%n] = 1\n",
        "        A[i+1,j + (i>>1)%n] = -1\n",
        "\n",
        "for i in range(n<<2, (n<<2) + n*n, 1):\n",
        "    A[i, i-(n<<2)]=-1\n",
        "\n",
        "# for i in range((n<<2)+(n*n)):\n",
        "#     for j in range(n*n):\n",
        "#         print(int(A[i, j]), end=\" \")\n",
        "#     print(\"\\n\")\n",
        "\n",
        "b = np.zeros(((n<<2) + n*n, 1))\n",
        "for i in range(n<<2):\n",
        "    if i&1:\n",
        "        b[i, 0] = -1\n",
        "    else:\n",
        "        b[i, 0] = 1\n",
        "\n",
        "c = np.array([[37.7], [32.9], [33.8], [37.0], [35.4], [43.4], [33.1], [42.2], [34.7], [41.8], [33.3], [28.5], [38.9], [30.4], [33.6], [29.2], [26.4], [29.6], [28.5], [31.1]])\n",
        "c = np.row_stack((c, np.zeros((n, 1))))\n",
        "# print(A)\n",
        "# print(b)\n",
        "\n",
        "# print(c)\n",
        "\n",
        "soln = solvers.lp(matrix(c, tc='d'), matrix(A, tc='d'), matrix(b, tc='d'))\n",
        "print(np.round_(soln['x'], decimals=5), soln['primal objective'])"
      ],
      "metadata": {
        "colab": {
          "base_uri": "https://localhost:8080/"
        },
        "id": "JV7RCVEjA6gn",
        "outputId": "63b6dd25-dd54-4b07-cfe2-68f954a0fe33"
      },
      "execution_count": null,
      "outputs": [
        {
          "output_type": "stream",
          "name": "stdout",
          "text": [
            "     pcost       dcost       gap    pres   dres   k/t\n",
            " 0:  1.2981e+02  1.2981e+02  7e+02  2e+00  4e-01  1e+00\n",
            " 1:  1.1706e+02  1.1759e+02  5e+01  2e-01  5e-02  7e-01\n",
            " 2:  1.2660e+02  1.2679e+02  7e+00  4e-02  1e-02  2e-01\n",
            " 3:  1.2600e+02  1.2605e+02  2e+00  9e-03  2e-03  5e-02\n",
            " 4:  1.2620e+02  1.2620e+02  1e-01  6e-04  2e-04  4e-03\n",
            " 5:  1.2620e+02  1.2620e+02  1e-03  6e-06  2e-06  4e-05\n",
            " 6:  1.2620e+02  1.2620e+02  1e-05  6e-08  2e-08  4e-07\n",
            "Optimal solution found.\n",
            "[[0.     ]\n",
            " [0.     ]\n",
            " [1.     ]\n",
            " [0.     ]\n",
            " [0.     ]\n",
            " [0.     ]\n",
            " [0.     ]\n",
            " [0.     ]\n",
            " [0.99999]\n",
            " [0.     ]\n",
            " [0.     ]\n",
            " [0.99999]\n",
            " [0.     ]\n",
            " [0.     ]\n",
            " [0.     ]\n",
            " [1.     ]\n",
            " [0.     ]\n",
            " [0.     ]\n",
            " [0.     ]\n",
            " [0.     ]\n",
            " [0.     ]\n",
            " [0.     ]\n",
            " [0.     ]\n",
            " [0.     ]\n",
            " [1.     ]] 126.19999967106038\n"
          ]
        }
      ]
    },
    {
      "cell_type": "markdown",
      "source": [
        "Optimal Distribution of Swimmers across all Strokes is -->\n",
        "1. David swims Backstroke. (33.8)\n",
        "2. Tony swims Breaststroke. (34.7)\n",
        "3. Chris swims Butterfly. (28.5)\n",
        "4. Carl swims Freestyle. (29.2)\n",
        "\n",
        "Ken DOES NOT swim.\n",
        "\n",
        "Minimum achievable time for all strokes combined is 33.8 + 34.7 + 28.5 + 29.2 = 126.2 seconds.\n",
        "\n"
      ],
      "metadata": {
        "id": "Yl3-NqRr_-Ec"
      }
    }
  ]
}