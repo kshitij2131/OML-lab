{
  "nbformat": 4,
  "nbformat_minor": 0,
  "metadata": {
    "colab": {
      "provenance": []
    },
    "kernelspec": {
      "name": "python3",
      "display_name": "Python 3"
    },
    "language_info": {
      "name": "python"
    }
  },
  "cells": [
    {
      "cell_type": "code",
      "source": [
        "import numpy as np\n",
        "import pandas as pd\n",
        "from cvxopt import matrix, solvers\n",
        "from scipy.optimize import minimize"
      ],
      "metadata": {
        "id": "xizOCvPwzhcX"
      },
      "execution_count": 1,
      "outputs": []
    },
    {
      "cell_type": "markdown",
      "source": [
        "#Question-1"
      ],
      "metadata": {
        "id": "9DRrEAm5YY2a"
      }
    },
    {
      "cell_type": "code",
      "source": [
        "def func(x):\n",
        "    return (-x[0] - x[1] - x[2] - x[3])\n",
        "\n",
        "# Refer scipy documentation for why minus sign in constraints. Check constrainsts section\n",
        "# LINK : https://docs.scipy.org/doc/scipy/reference/generated/scipy.optimize.minimize.html#scipy.optimize.minimize\n",
        "\n",
        "def constraint1(x):\n",
        "    return -1*((x[0]-x[1])**2 + (x[2] + 2*x[3])**4 - 5)\n",
        "\n",
        "def constraint2(x):\n",
        "    return -1*(x[0]+2*x[1]+3*x[2]+4*x[3]-6)\n",
        "\n",
        "cons = [{'type': 'ineq', 'fun': constraint1}, {'type': 'ineq', 'fun': constraint2}]\n",
        "bounds = [(0, None), (0, None), (0, None), (0, None)]\n",
        "x0 = [0, 0, 0, 0]\n",
        "\n",
        "result = minimize(func, x0, method='SLSQP', bounds=bounds, constraints=cons)\n",
        "\n",
        "print(result)\n",
        "print(\"Optimal solution:\")\n",
        "print(\"x1 =\", np.round(result.x[0], decimals = 2))\n",
        "print(\"x2 =\", np.round(result.x[1], decimals = 2))\n",
        "print(\"x3 =\", np.round(result.x[2], decimals = 2))\n",
        "print(\"x4 =\", np.round(result.x[3], decimals = 2))\n",
        "\n",
        "# x1 = 2.8497099366136913e+31\n",
        "# x2 = 2.8497099366136895e+31\n",
        "# x3 = 3.5890973769734204e+31\n",
        "# x4 = 4.328484790104133e+31"
      ],
      "metadata": {
        "colab": {
          "base_uri": "https://localhost:8080/"
        },
        "id": "QLRdSd2HYaWF",
        "outputId": "c02987c7-84ca-4c29-fa76-b3d1d8e38a38"
      },
      "execution_count": 2,
      "outputs": [
        {
          "output_type": "stream",
          "name": "stdout",
          "text": [
            " message: Optimization terminated successfully\n",
            " success: True\n",
            "  status: 0\n",
            "     fun: -4.745355992499908\n",
            "       x: [ 3.491e+00  1.255e+00  0.000e+00  0.000e+00]\n",
            "     nit: 8\n",
            "     jac: [-1.000e+00 -1.000e+00 -1.000e+00 -1.000e+00]\n",
            "    nfev: 42\n",
            "    njev: 8\n",
            "Optimal solution:\n",
            "x1 = 3.49\n",
            "x2 = 1.25\n",
            "x3 = 0.0\n",
            "x4 = 0.0\n"
          ]
        }
      ]
    },
    {
      "cell_type": "markdown",
      "source": [
        "#Question-2"
      ],
      "metadata": {
        "id": "JNqiG3nTZ9ne"
      }
    },
    {
      "cell_type": "code",
      "source": [
        "data_path = '/content/2_col_revised.xlsx'\n",
        "col_names = ['area', 'price']\n",
        "data = pd.read_excel(data_path, header=None, names=col_names)\n",
        "# header = none treat first row as data and does not replace it with col_names\n",
        "# print(data.iloc[:-1, 0].values)\n",
        "x = data.iloc[:, 0].values.reshape(-1,1)\n",
        "y = data.iloc[:, 1].values\n",
        "# print(y.shape)\n",
        "n = len(x)\n",
        "x[n-1]= 5\n",
        "R = 8\n",
        "degrees = [1, 2, 3, 4, 5, 6, 7]\n",
        "r = 15\n",
        "\n",
        "def func(a):\n",
        "    return np.sum(a)\n",
        "\n",
        "def constraint(a, degree):\n",
        "    fitted_values = np.sum(a * (x**degree)) - y\n",
        "    return np.sum(fitted_values)\n",
        "\n",
        "print(\"Price of 5-thousand square feet house:-\")\n",
        "for degree in degrees:\n",
        "    initial_guess = np.ones(degree + 1)\n",
        "\n",
        "    poly_constraint = {'type': 'eq', 'fun': lambda alpha: constraint(alpha, degree)}\n",
        "\n",
        "    bounds = [(0, None) for _ in range(degree + 1)]\n",
        "    result = minimize(func, initial_guess, method='SLSQP', constraints=[poly_constraint], bounds=bounds)\n",
        "    # print(result)\n",
        "\n",
        "    if result.success and result.fun <= r:\n",
        "        price = np.polyval(result.x, R)*100\n",
        "        print(f\"For degree: {degree}, Price: {price:.2f}\")"
      ],
      "metadata": {
        "colab": {
          "base_uri": "https://localhost:8080/",
          "height": 407
        },
        "id": "hjhUtPQlaBhD",
        "outputId": "eddec846-b9a2-429d-a1d8-73d7a74cef3f"
      },
      "execution_count": 3,
      "outputs": [
        {
          "output_type": "error",
          "ename": "FileNotFoundError",
          "evalue": "ignored",
          "traceback": [
            "\u001b[0;31m---------------------------------------------------------------------------\u001b[0m",
            "\u001b[0;31mFileNotFoundError\u001b[0m                         Traceback (most recent call last)",
            "\u001b[0;32m<ipython-input-3-b6b5c8e123e2>\u001b[0m in \u001b[0;36m<cell line: 3>\u001b[0;34m()\u001b[0m\n\u001b[1;32m      1\u001b[0m \u001b[0mdata_path\u001b[0m \u001b[0;34m=\u001b[0m \u001b[0;34m'/content/2_col_revised.xlsx'\u001b[0m\u001b[0;34m\u001b[0m\u001b[0;34m\u001b[0m\u001b[0m\n\u001b[1;32m      2\u001b[0m \u001b[0mcol_names\u001b[0m \u001b[0;34m=\u001b[0m \u001b[0;34m[\u001b[0m\u001b[0;34m'area'\u001b[0m\u001b[0;34m,\u001b[0m \u001b[0;34m'price'\u001b[0m\u001b[0;34m]\u001b[0m\u001b[0;34m\u001b[0m\u001b[0;34m\u001b[0m\u001b[0m\n\u001b[0;32m----> 3\u001b[0;31m \u001b[0mdata\u001b[0m \u001b[0;34m=\u001b[0m \u001b[0mpd\u001b[0m\u001b[0;34m.\u001b[0m\u001b[0mread_excel\u001b[0m\u001b[0;34m(\u001b[0m\u001b[0mdata_path\u001b[0m\u001b[0;34m,\u001b[0m \u001b[0mheader\u001b[0m\u001b[0;34m=\u001b[0m\u001b[0;32mNone\u001b[0m\u001b[0;34m,\u001b[0m \u001b[0mnames\u001b[0m\u001b[0;34m=\u001b[0m\u001b[0mcol_names\u001b[0m\u001b[0;34m)\u001b[0m\u001b[0;34m\u001b[0m\u001b[0;34m\u001b[0m\u001b[0m\n\u001b[0m\u001b[1;32m      4\u001b[0m \u001b[0;31m# header = none treat first row as data and does not replace it with col_names\u001b[0m\u001b[0;34m\u001b[0m\u001b[0;34m\u001b[0m\u001b[0m\n\u001b[1;32m      5\u001b[0m \u001b[0;31m# print(data.iloc[:-1, 0].values)\u001b[0m\u001b[0;34m\u001b[0m\u001b[0;34m\u001b[0m\u001b[0m\n",
            "\u001b[0;32m/usr/local/lib/python3.10/dist-packages/pandas/util/_decorators.py\u001b[0m in \u001b[0;36mwrapper\u001b[0;34m(*args, **kwargs)\u001b[0m\n\u001b[1;32m    209\u001b[0m                 \u001b[0;32melse\u001b[0m\u001b[0;34m:\u001b[0m\u001b[0;34m\u001b[0m\u001b[0;34m\u001b[0m\u001b[0m\n\u001b[1;32m    210\u001b[0m                     \u001b[0mkwargs\u001b[0m\u001b[0;34m[\u001b[0m\u001b[0mnew_arg_name\u001b[0m\u001b[0;34m]\u001b[0m \u001b[0;34m=\u001b[0m \u001b[0mnew_arg_value\u001b[0m\u001b[0;34m\u001b[0m\u001b[0;34m\u001b[0m\u001b[0m\n\u001b[0;32m--> 211\u001b[0;31m             \u001b[0;32mreturn\u001b[0m \u001b[0mfunc\u001b[0m\u001b[0;34m(\u001b[0m\u001b[0;34m*\u001b[0m\u001b[0margs\u001b[0m\u001b[0;34m,\u001b[0m \u001b[0;34m**\u001b[0m\u001b[0mkwargs\u001b[0m\u001b[0;34m)\u001b[0m\u001b[0;34m\u001b[0m\u001b[0;34m\u001b[0m\u001b[0m\n\u001b[0m\u001b[1;32m    212\u001b[0m \u001b[0;34m\u001b[0m\u001b[0m\n\u001b[1;32m    213\u001b[0m         \u001b[0;32mreturn\u001b[0m \u001b[0mcast\u001b[0m\u001b[0;34m(\u001b[0m\u001b[0mF\u001b[0m\u001b[0;34m,\u001b[0m \u001b[0mwrapper\u001b[0m\u001b[0;34m)\u001b[0m\u001b[0;34m\u001b[0m\u001b[0;34m\u001b[0m\u001b[0m\n",
            "\u001b[0;32m/usr/local/lib/python3.10/dist-packages/pandas/util/_decorators.py\u001b[0m in \u001b[0;36mwrapper\u001b[0;34m(*args, **kwargs)\u001b[0m\n\u001b[1;32m    329\u001b[0m                     \u001b[0mstacklevel\u001b[0m\u001b[0;34m=\u001b[0m\u001b[0mfind_stack_level\u001b[0m\u001b[0;34m(\u001b[0m\u001b[0;34m)\u001b[0m\u001b[0;34m,\u001b[0m\u001b[0;34m\u001b[0m\u001b[0;34m\u001b[0m\u001b[0m\n\u001b[1;32m    330\u001b[0m                 )\n\u001b[0;32m--> 331\u001b[0;31m             \u001b[0;32mreturn\u001b[0m \u001b[0mfunc\u001b[0m\u001b[0;34m(\u001b[0m\u001b[0;34m*\u001b[0m\u001b[0margs\u001b[0m\u001b[0;34m,\u001b[0m \u001b[0;34m**\u001b[0m\u001b[0mkwargs\u001b[0m\u001b[0;34m)\u001b[0m\u001b[0;34m\u001b[0m\u001b[0;34m\u001b[0m\u001b[0m\n\u001b[0m\u001b[1;32m    332\u001b[0m \u001b[0;34m\u001b[0m\u001b[0m\n\u001b[1;32m    333\u001b[0m         \u001b[0;31m# error: \"Callable[[VarArg(Any), KwArg(Any)], Any]\" has no\u001b[0m\u001b[0;34m\u001b[0m\u001b[0;34m\u001b[0m\u001b[0m\n",
            "\u001b[0;32m/usr/local/lib/python3.10/dist-packages/pandas/io/excel/_base.py\u001b[0m in \u001b[0;36mread_excel\u001b[0;34m(io, sheet_name, header, names, index_col, usecols, squeeze, dtype, engine, converters, true_values, false_values, skiprows, nrows, na_values, keep_default_na, na_filter, verbose, parse_dates, date_parser, thousands, decimal, comment, skipfooter, convert_float, mangle_dupe_cols, storage_options)\u001b[0m\n\u001b[1;32m    480\u001b[0m     \u001b[0;32mif\u001b[0m \u001b[0;32mnot\u001b[0m \u001b[0misinstance\u001b[0m\u001b[0;34m(\u001b[0m\u001b[0mio\u001b[0m\u001b[0;34m,\u001b[0m \u001b[0mExcelFile\u001b[0m\u001b[0;34m)\u001b[0m\u001b[0;34m:\u001b[0m\u001b[0;34m\u001b[0m\u001b[0;34m\u001b[0m\u001b[0m\n\u001b[1;32m    481\u001b[0m         \u001b[0mshould_close\u001b[0m \u001b[0;34m=\u001b[0m \u001b[0;32mTrue\u001b[0m\u001b[0;34m\u001b[0m\u001b[0;34m\u001b[0m\u001b[0m\n\u001b[0;32m--> 482\u001b[0;31m         \u001b[0mio\u001b[0m \u001b[0;34m=\u001b[0m \u001b[0mExcelFile\u001b[0m\u001b[0;34m(\u001b[0m\u001b[0mio\u001b[0m\u001b[0;34m,\u001b[0m \u001b[0mstorage_options\u001b[0m\u001b[0;34m=\u001b[0m\u001b[0mstorage_options\u001b[0m\u001b[0;34m,\u001b[0m \u001b[0mengine\u001b[0m\u001b[0;34m=\u001b[0m\u001b[0mengine\u001b[0m\u001b[0;34m)\u001b[0m\u001b[0;34m\u001b[0m\u001b[0;34m\u001b[0m\u001b[0m\n\u001b[0m\u001b[1;32m    483\u001b[0m     \u001b[0;32melif\u001b[0m \u001b[0mengine\u001b[0m \u001b[0;32mand\u001b[0m \u001b[0mengine\u001b[0m \u001b[0;34m!=\u001b[0m \u001b[0mio\u001b[0m\u001b[0;34m.\u001b[0m\u001b[0mengine\u001b[0m\u001b[0;34m:\u001b[0m\u001b[0;34m\u001b[0m\u001b[0;34m\u001b[0m\u001b[0m\n\u001b[1;32m    484\u001b[0m         raise ValueError(\n",
            "\u001b[0;32m/usr/local/lib/python3.10/dist-packages/pandas/io/excel/_base.py\u001b[0m in \u001b[0;36m__init__\u001b[0;34m(self, path_or_buffer, engine, storage_options)\u001b[0m\n\u001b[1;32m   1650\u001b[0m                 \u001b[0mext\u001b[0m \u001b[0;34m=\u001b[0m \u001b[0;34m\"xls\"\u001b[0m\u001b[0;34m\u001b[0m\u001b[0;34m\u001b[0m\u001b[0m\n\u001b[1;32m   1651\u001b[0m             \u001b[0;32melse\u001b[0m\u001b[0;34m:\u001b[0m\u001b[0;34m\u001b[0m\u001b[0;34m\u001b[0m\u001b[0m\n\u001b[0;32m-> 1652\u001b[0;31m                 ext = inspect_excel_format(\n\u001b[0m\u001b[1;32m   1653\u001b[0m                     \u001b[0mcontent_or_path\u001b[0m\u001b[0;34m=\u001b[0m\u001b[0mpath_or_buffer\u001b[0m\u001b[0;34m,\u001b[0m \u001b[0mstorage_options\u001b[0m\u001b[0;34m=\u001b[0m\u001b[0mstorage_options\u001b[0m\u001b[0;34m\u001b[0m\u001b[0;34m\u001b[0m\u001b[0m\n\u001b[1;32m   1654\u001b[0m                 )\n",
            "\u001b[0;32m/usr/local/lib/python3.10/dist-packages/pandas/io/excel/_base.py\u001b[0m in \u001b[0;36minspect_excel_format\u001b[0;34m(content_or_path, storage_options)\u001b[0m\n\u001b[1;32m   1523\u001b[0m         \u001b[0mcontent_or_path\u001b[0m \u001b[0;34m=\u001b[0m \u001b[0mBytesIO\u001b[0m\u001b[0;34m(\u001b[0m\u001b[0mcontent_or_path\u001b[0m\u001b[0;34m)\u001b[0m\u001b[0;34m\u001b[0m\u001b[0;34m\u001b[0m\u001b[0m\n\u001b[1;32m   1524\u001b[0m \u001b[0;34m\u001b[0m\u001b[0m\n\u001b[0;32m-> 1525\u001b[0;31m     with get_handle(\n\u001b[0m\u001b[1;32m   1526\u001b[0m         \u001b[0mcontent_or_path\u001b[0m\u001b[0;34m,\u001b[0m \u001b[0;34m\"rb\"\u001b[0m\u001b[0;34m,\u001b[0m \u001b[0mstorage_options\u001b[0m\u001b[0;34m=\u001b[0m\u001b[0mstorage_options\u001b[0m\u001b[0;34m,\u001b[0m \u001b[0mis_text\u001b[0m\u001b[0;34m=\u001b[0m\u001b[0;32mFalse\u001b[0m\u001b[0;34m\u001b[0m\u001b[0;34m\u001b[0m\u001b[0m\n\u001b[1;32m   1527\u001b[0m     ) as handle:\n",
            "\u001b[0;32m/usr/local/lib/python3.10/dist-packages/pandas/io/common.py\u001b[0m in \u001b[0;36mget_handle\u001b[0;34m(path_or_buf, mode, encoding, compression, memory_map, is_text, errors, storage_options)\u001b[0m\n\u001b[1;32m    863\u001b[0m         \u001b[0;32melse\u001b[0m\u001b[0;34m:\u001b[0m\u001b[0;34m\u001b[0m\u001b[0;34m\u001b[0m\u001b[0m\n\u001b[1;32m    864\u001b[0m             \u001b[0;31m# Binary mode\u001b[0m\u001b[0;34m\u001b[0m\u001b[0;34m\u001b[0m\u001b[0m\n\u001b[0;32m--> 865\u001b[0;31m             \u001b[0mhandle\u001b[0m \u001b[0;34m=\u001b[0m \u001b[0mopen\u001b[0m\u001b[0;34m(\u001b[0m\u001b[0mhandle\u001b[0m\u001b[0;34m,\u001b[0m \u001b[0mioargs\u001b[0m\u001b[0;34m.\u001b[0m\u001b[0mmode\u001b[0m\u001b[0;34m)\u001b[0m\u001b[0;34m\u001b[0m\u001b[0;34m\u001b[0m\u001b[0m\n\u001b[0m\u001b[1;32m    866\u001b[0m         \u001b[0mhandles\u001b[0m\u001b[0;34m.\u001b[0m\u001b[0mappend\u001b[0m\u001b[0;34m(\u001b[0m\u001b[0mhandle\u001b[0m\u001b[0;34m)\u001b[0m\u001b[0;34m\u001b[0m\u001b[0;34m\u001b[0m\u001b[0m\n\u001b[1;32m    867\u001b[0m \u001b[0;34m\u001b[0m\u001b[0m\n",
            "\u001b[0;31mFileNotFoundError\u001b[0m: [Errno 2] No such file or directory: '/content/2_col_revised.xlsx'"
          ]
        }
      ]
    },
    {
      "cell_type": "markdown",
      "source": [
        "#Question-3"
      ],
      "metadata": {
        "id": "jVV9L803scDC"
      }
    },
    {
      "cell_type": "code",
      "source": [
        "R = 28"
      ],
      "metadata": {
        "id": "Vtkpi1e0MpjP"
      },
      "execution_count": null,
      "outputs": []
    },
    {
      "cell_type": "markdown",
      "source": [
        "The variable soln will be a dictionary with the following keys:\n",
        "\n",
        "**'x':** The optimal variable values (the solution to the linear programming problem). These are the values that minimize the linear objective function subject to the given constraints.\n",
        "\n",
        "**'y':** The Lagrange multipliers associated with the inequality constraints. These represent the dual variables associated with the inequalities.\n",
        "\n",
        "**'s':** The values of the slack variables associated with the inequality constraints. Slack variables measure the surplus or slack in the constraints.\n",
        "\n",
        "**'z':** The values of the dual variables associated with the variable bounds.\n",
        "\n",
        "**'status':** A string indicating the status of the optimization. Common status values include:\n",
        "\n",
        "**'optimal':** The optimization was successful, and an optimal solution was found.\n",
        "**'infeasible':** The linear programming problem is infeasible (no feasible solution exists).\n",
        "**'unbounded':** The linear programming problem is unbounded (there is no optimal solution).\n",
        "**'primal objective':** The optimal value of the linear objective function at the optimal solution.\n",
        "\n",
        "**'dual objective': **The optimal value of the dual objective function at the optimal solution.\n",
        "\n",
        "**'residual as primal infeasibility certificate':** The residual primal infeasibility certificate.\n",
        "\n",
        "**'residual as dual infeasibility certificate':** The residual dual infeasibility certificate.\n",
        "\n",
        "**'relative primal infeasibility':** The relative primal infeasibility.\n",
        "\n",
        "**'relative dual infeasibility':** The relative dual infeasibility.\n",
        "\n",
        "**'iterations':** The number of iterations performed by the linear programming solver."
      ],
      "metadata": {
        "id": "utKSJf8SQ0fR"
      }
    },
    {
      "cell_type": "code",
      "execution_count": null,
      "metadata": {
        "id": "eRjVRWIboSv9"
      },
      "outputs": [],
      "source": [
        "# considering x2 = x3 - x4 s.t x3>=0, x4>=0\n",
        "# min 3*x1 − 4*x3 + 4*x4\n",
        "\n",
        "A = np.array([[1, 3, -3], [2, -1, 1], [-1, 4, -4], [-1, 0, 0], [0, -1, 0], [0, 0, -1]])\n",
        "b = np.array([[12], [20], [-5], [0], [0], [0]])\n",
        "c = np.array([[3], [-4], [4]])\n",
        "soln = solvers.lp(matrix(c,tc='d'),matrix(A,tc='d'),matrix(b,tc='d'))\n",
        "# The tc='d' specifies that the data type of the matrix elements should be 'double' (float).\n",
        "# print(soln)\n",
        "sol_p = np.round(soln['primal objective'], decimals=5)\n",
        "print(np.round_(soln['x'],decimals=5))\n",
        "print(\"Minimum value is\",sol_p)"
      ]
    },
    {
      "cell_type": "code",
      "source": [
        "# dual of the problem\n",
        "# max -12*y1 - 20*y2 + 5*y3\n",
        "\n",
        "# max -b^T lmb1                                                    min c^T x\n",
        "  # s.t. A^T lmb1 >= -c => -A^T lmb1 <= c   this is dual for       s.t. Ax <= b => Ax - b <= 0\n",
        "  #      lmb1 >= 0      => -lmb1 <= 0                              x>= 0 => -x <= 0\n",
        "\n",
        "A = np.array([[-1, -2, 1], [-3, 1, -4], [3, -1, 4], [-1, 0, 0], [0, -1, 0], [0, 0, -1]])\n",
        "b = np.array([[3], [-4], [4], [0], [0], [0]])\n",
        "c = np.array([[12], [20], [-5]])\n",
        "soln = solvers.lp(matrix(c,tc='d'),matrix(A,tc='d'),matrix(b,tc='d'))\n",
        "sol_d = np.round(-soln['primal objective'], decimals=5)\n",
        "print(np.round_(soln['x'],decimals=5))\n",
        "print(\"Maximum value is\", sol_d)"
      ],
      "metadata": {
        "id": "G10P1vKnzTq9"
      },
      "execution_count": null,
      "outputs": []
    },
    {
      "cell_type": "code",
      "source": [
        "#duality gap\n",
        "\n",
        "duality_gap = (sol_p - sol_d)\n",
        "print(duality_gap)"
      ],
      "metadata": {
        "id": "RRw58oC7Ktlo"
      },
      "execution_count": null,
      "outputs": []
    },
    {
      "cell_type": "markdown",
      "source": [
        "#Question-4"
      ],
      "metadata": {
        "id": "VzUv4vesKvXg"
      }
    },
    {
      "cell_type": "code",
      "source": [
        "# min (R + 3)x1 + (R + 41)x2\n",
        "# R = 28\n",
        "\n",
        "A = np.array([[3, -1], [7, 11], [-1, 0], [0, -1]])\n",
        "b = np.array([[12], [88], [0], [0]])\n",
        "c = np.array([[R+3], [R+41]])\n",
        "soln = solvers.lp(matrix(c,tc='d'),matrix(A,tc='d'),matrix(b,tc='d'))\n",
        "sol_p = np.round(soln['primal objective'], decimals=5)\n",
        "print(np.round_(soln['x'],decimals=5))\n",
        "print(\"Minimum value is\",sol_p)"
      ],
      "metadata": {
        "id": "qaPoJ4FzB_aq"
      },
      "execution_count": null,
      "outputs": []
    },
    {
      "cell_type": "code",
      "source": [
        "# dual of the problem\n",
        "# max -12*y1 - 88*y2\n",
        "# min 12*y1 + 88*y2\n",
        "# lmb1 = [y1,y2]^T\n",
        "\n",
        "# max -b^T lmb1 => min b^T lmb1                                           min c^T x\n",
        "  # s.t. A^T lmb1 >= -c => -A^T lmb1 <= c   this is dual for              s.t. Ax <= b => Ax - b <= 0\n",
        "  #      lmb1 >= 0      => -lmb1 <= 0                                     x>= 0 => -x <= 0\n",
        "\n",
        "A = np.array([[-3, -7], [1, -11], [-1, 0], [0, -1]])\n",
        "b = np.array([[R+3], [R+41], [0], [0]])\n",
        "c = np.array([[12], [88]])\n",
        "soln = solvers.lp(matrix(c,tc='d'),matrix(A,tc='d'),matrix(b,tc='d'))\n",
        "sol_d = np.round(-soln['primal objective'], decimals=5)\n",
        "print(np.round_(soln['x'],decimals=5))\n",
        "print(\"Maximum value is\", sol_d)"
      ],
      "metadata": {
        "id": "tB1q1z80LaZK"
      },
      "execution_count": null,
      "outputs": []
    },
    {
      "cell_type": "code",
      "source": [
        "#duality gap\n",
        "\n",
        "duality_gap = (sol_p - sol_d)\n",
        "print(duality_gap)"
      ],
      "metadata": {
        "id": "7ML_-9JTQ2Ew"
      },
      "execution_count": null,
      "outputs": []
    },
    {
      "cell_type": "markdown",
      "source": [
        "#Question-5"
      ],
      "metadata": {
        "id": "X3OfBaSaPX9x"
      }
    },
    {
      "cell_type": "code",
      "source": [
        "# min Rx1 − (R − 1)x2\n",
        "\n",
        "A = np.array([[3, -2], [3, -2], [-1, 0], [0, -1]])\n",
        "b = np.array([[1], [6], [0], [0]])\n",
        "c = np.array([[R], [-R + 1]])\n",
        "# print(c)\n",
        "soln = solvers.lp(matrix(c,tc='d'),matrix(A,tc='d'),matrix(b,tc='d'))"
      ],
      "metadata": {
        "id": "01EjYE8wL_YA"
      },
      "execution_count": null,
      "outputs": []
    },
    {
      "cell_type": "code",
      "source": [
        "# dual of the problem\n",
        "# max -1*y1 - 6*y2\n",
        "\n",
        "A = np.array([[-3, -3], [2, 2], [-1, 0], [0, -1]])\n",
        "b = np.array([[R], [-R + 1], [0], [0]])\n",
        "c = np.array([[1], [6]])\n",
        "soln = solvers.lp(matrix(c,tc='d'),matrix(A,tc='d'),matrix(b,tc='d'))"
      ],
      "metadata": {
        "id": "dBHcOngEPdcW"
      },
      "execution_count": null,
      "outputs": []
    },
    {
      "cell_type": "markdown",
      "source": [
        "#Question-6"
      ],
      "metadata": {
        "id": "-PHRDKUxDvkn"
      }
    },
    {
      "cell_type": "code",
      "source": [
        "# max z = x1 + x2 + x3\n",
        "\n",
        "A = np.array([[3, 2, 1], [2, 1, 2], [-1, 0, 0], [0, -1, 0], [0, 0, -1]])\n",
        "b = np.array([[3], [2], [0], [0], [0]])\n",
        "c = np.array([[-1], [-1], [-1]])\n",
        "soln = solvers.lp(matrix(c,tc='d'),matrix(A,tc='d'),matrix(b,tc='d'))\n",
        "sol_p = np.round(-soln['primal objective'], decimals=5)\n",
        "print(np.round_(soln['x'],decimals=5))\n",
        "print(\"Maximum value is\",sol_p)"
      ],
      "metadata": {
        "id": "poV8yqiBB4Rg"
      },
      "execution_count": null,
      "outputs": []
    },
    {
      "cell_type": "code",
      "source": [
        "# dual of the problem\n",
        "# min 3*y1 + 2*y2\n",
        "\n",
        "A = np.array([[-3, -2], [-2, -1], [-1, -2], [-1, 0], [0, -1]])\n",
        "b = np.array([[-1], [-1], [-1], [0], [0]])\n",
        "c = np.array([[3], [2]])\n",
        "soln = solvers.lp(matrix(c,tc='d'),matrix(A,tc='d'),matrix(b,tc='d'))\n",
        "sol_d = np.round(soln['primal objective'], decimals=5)\n",
        "print(np.round_(soln['x'],decimals=5))\n",
        "print(\"Minimum value is\", sol_d)"
      ],
      "metadata": {
        "id": "sDLYKpVIEO-7"
      },
      "execution_count": null,
      "outputs": []
    },
    {
      "cell_type": "code",
      "source": [
        "#duality gap\n",
        "\n",
        "duality_gap = (sol_p - sol_d)\n",
        "print(duality_gap)"
      ],
      "metadata": {
        "id": "FMAsVGkfVPs1"
      },
      "execution_count": null,
      "outputs": []
    },
    {
      "cell_type": "markdown",
      "source": [
        "#Question-7"
      ],
      "metadata": {
        "id": "IEPVCpfxF1nP"
      }
    },
    {
      "cell_type": "code",
      "source": [
        "# max z = 17x1 + 18x2\n",
        "\n",
        "A = np.array([[2, 1], [1, 1], [2, 4], [-1, 0], [0, -1]])\n",
        "b = np.array([[1000], [600], [2000], [0], [0]])\n",
        "c = np.array([[-(R+2)], [-(R+3)]])\n",
        "soln = solvers.lp(matrix(c,tc='d'),matrix(A,tc='d'),matrix(b,tc='d'))\n",
        "sol_p = np.round(-soln['primal objective'], decimals=5)\n",
        "print(np.round_(soln['x'],decimals=5))\n",
        "print(\"Maximum value is\",sol_p)"
      ],
      "metadata": {
        "id": "0F_4EKpUFCEo"
      },
      "execution_count": null,
      "outputs": []
    },
    {
      "cell_type": "code",
      "source": [
        "# dual of the problem\n",
        "# min 1000*y1 + 600*y2 + 2000*y3\n",
        "\n",
        "A = np.array([[-2, -1, -2], [-1, -1, -4], [-1, 0, 0], [0, -1, 0], [0, 0, -1]])\n",
        "b = np.array([[-(R+2)], [-(R+3)], [0], [0], [0]])\n",
        "c = np.array([[1000], [600], [2000]])\n",
        "soln = solvers.lp(matrix(c,tc='d'),matrix(A,tc='d'),matrix(b,tc='d'))\n",
        "sol_d = np.round(soln['primal objective'], decimals=5)\n",
        "print(np.round_(soln['x'],decimals=5))\n",
        "print(\"Minimum value is\", sol_d)"
      ],
      "metadata": {
        "id": "y4AOkb0tdNFd"
      },
      "execution_count": null,
      "outputs": []
    },
    {
      "cell_type": "code",
      "source": [
        "#duality gap\n",
        "\n",
        "duality_gap = np.round((sol_p - sol_d), decimals = 4)\n",
        "print(np.round(duality_gap,decimals=2))"
      ],
      "metadata": {
        "id": "mwcrIN57eMI7"
      },
      "execution_count": null,
      "outputs": []
    },
    {
      "cell_type": "markdown",
      "source": [
        "#Question-8"
      ],
      "metadata": {
        "id": "pJo55X2SLSGW"
      }
    },
    {
      "cell_type": "code",
      "source": [
        "# min 2x1 + 3x2 + 10x3\n",
        "\n",
        "A = np.array([[1, 0, 2], [-1, 0, -2], [0, -1, -1], [0, 1, 1], [-1, 0, 0], [0, -1, 0], [0, 0, -1]])\n",
        "b = np.array([[0], [0], [-1], [1], [0], [0], [0]])\n",
        "c = np.array([[2], [3], [10]])\n",
        "soln = solvers.lp(matrix(c,tc='d'),matrix(A,tc='d'),matrix(b,tc='d'))\n",
        "sol_p = np.round(soln['primal objective'], decimals=5)\n",
        "print(np.round_(soln['x'],decimals=5))\n",
        "print(\"Minimum value is\",sol_p)"
      ],
      "metadata": {
        "id": "7bdlv0gXLWNo"
      },
      "execution_count": null,
      "outputs": []
    },
    {
      "cell_type": "code",
      "source": [
        "# dual of the problem\n",
        "# max y3 - y4\n",
        "\n",
        "A = np.array([[-1, 1, 0, 0], [0, 0, 1, -1], [-2, 2, 1, -1], [-1, 0, 0, 0], [0, -1, 0, 0], [0, 0, -1, 0], [0, 0, 0, -1]])\n",
        "b = np.array([[2], [3], [10], [0], [0], [0], [0]])\n",
        "c = np.array([[0], [0], [-1], [1]])\n",
        "soln = solvers.lp(matrix(c,tc='d'),matrix(A,tc='d'),matrix(b,tc='d'))\n",
        "sol_d = np.round(-soln['primal objective'], decimals=5)\n",
        "print(np.round_(soln['x'],decimals=5))\n",
        "print(\"Maximum value is\", sol_d)"
      ],
      "metadata": {
        "id": "Kj0gFhFRLcK7"
      },
      "execution_count": null,
      "outputs": []
    },
    {
      "cell_type": "code",
      "source": [
        "#duality gap\n",
        "\n",
        "duality_gap = np.round((sol_p - sol_d), decimals = 5)\n",
        "print(duality_gap)"
      ],
      "metadata": {
        "id": "kjgM45h8Ld6x"
      },
      "execution_count": null,
      "outputs": []
    },
    {
      "cell_type": "markdown",
      "source": [
        "#Question-9"
      ],
      "metadata": {
        "id": "PZm3pTtCLCEp"
      }
    },
    {
      "cell_type": "code",
      "source": [
        "# considering x2 = x3 - x4 s.t x3>=0, x4>=0\n",
        "# min 3*x1 − 4*x3 + 4*x4\n",
        "\n",
        "A = np.array([[1, 3, -3], [2, -1, 1], [-1, 4, -4], [-1, 0, 0], [0, -1, 0], [0, 0, -1]])\n",
        "b = np.array([[12], [20], [-5], [0], [0], [0]])\n",
        "c = np.array([[3], [-4], [4]])\n",
        "soln = solvers.lp(matrix(c,tc='d'),matrix(A,tc='d'),matrix(b,tc='d'))\n",
        "sol_p = np.round(soln['primal objective'], decimals=5)\n",
        "print(np.round_(soln['x'],decimals=5))\n",
        "print(\"Minimum value is\",sol_p)"
      ],
      "metadata": {
        "id": "xQ6xzNSnLEeJ"
      },
      "execution_count": null,
      "outputs": []
    },
    {
      "cell_type": "code",
      "source": [
        "# dual of the problem\n",
        "# max -12*y1 - 20*y2 + 5*y3\n",
        "\n",
        "A = np.array([[-1, -2, 1], [-3, 1, -4], [3, -1, 4], [-1, 0, 0], [0, -1, 0], [0, 0, -1]])\n",
        "b = np.array([[3], [-4], [4], [0], [0], [0]])\n",
        "c = np.array([[12], [20], [-5]])\n",
        "soln = solvers.lp(matrix(c,tc='d'),matrix(A,tc='d'),matrix(b,tc='d'))\n",
        "sol_d = np.round(-soln['primal objective'], decimals=5)\n",
        "print(np.round_(soln['x'],decimals=5))\n",
        "print(\"Maximum value is\", sol_d)"
      ],
      "metadata": {
        "id": "fitsvLDILK8O"
      },
      "execution_count": null,
      "outputs": []
    },
    {
      "cell_type": "code",
      "source": [
        "#duality gap\n",
        "\n",
        "duality_gap = np.round((sol_p - sol_d), decimals = 4)\n",
        "print(duality_gap)"
      ],
      "metadata": {
        "id": "oqbvU42TLNXS"
      },
      "execution_count": null,
      "outputs": []
    },
    {
      "cell_type": "markdown",
      "source": [
        "#Question-10"
      ],
      "metadata": {
        "id": "2zI-1yfteewx"
      }
    },
    {
      "cell_type": "code",
      "source": [
        "# max 15x1 + 18x2\n",
        "\n",
        "A = np.array([[-3, -1], [-1, -4], [1, 1], [-1, 0], [0, -1]])\n",
        "b = np.array([[-3], [-4], [5], [0], [0]])\n",
        "c = np.array([[-R], [-(R+3)]])\n",
        "soln = solvers.lp(matrix(c,tc='d'),matrix(A,tc='d'),matrix(b,tc='d'))\n",
        "sol_p = np.round(-soln['primal objective'], decimals=5)\n",
        "print(np.round_(soln['x'],decimals=5))\n",
        "print(\"Maximum value is\",sol_p)"
      ],
      "metadata": {
        "id": "A9t26b_xeeYC"
      },
      "execution_count": null,
      "outputs": []
    },
    {
      "cell_type": "code",
      "source": [
        "# dual of the problem\n",
        "# min -3*y1 - 4*y2 + 5*y3\n",
        "\n",
        "A = np.array([[3, 1, -1], [1, 4, -1], [-1, 0, 0], [0, -1, 0], [0, 0, -1]])\n",
        "b = np.array([[-R], [-(R+3)], [0], [0], [0]])\n",
        "c = np.array([[-3], [-4], [5]])\n",
        "soln = solvers.lp(matrix(c,tc='d'),matrix(A,tc='d'),matrix(b,tc='d'))\n",
        "sol_d = np.round(soln['primal objective'], decimals=5)\n",
        "print(np.round_(soln['x'],decimals=5))\n",
        "print(\"Minimum value is\", sol_d)"
      ],
      "metadata": {
        "id": "mYWuP2mCeOIV"
      },
      "execution_count": null,
      "outputs": []
    },
    {
      "cell_type": "code",
      "source": [
        "#duality gap\n",
        "\n",
        "duality_gap = np.round((sol_p - sol_d), decimals = 5)\n",
        "print(duality_gap)"
      ],
      "metadata": {
        "id": "nPObSTligyIu"
      },
      "execution_count": null,
      "outputs": []
    },
    {
      "cell_type": "markdown",
      "source": [
        "#Question-11"
      ],
      "metadata": {
        "id": "KPc58jm6g4K9"
      }
    },
    {
      "cell_type": "code",
      "source": [
        "# min 15x1 + 31x2\n",
        "\n",
        "A = np.array([[2, 1], [-3, -4], [-2, 3], [-1, 0], [0, -1]])\n",
        "b = np.array([[4], [-24], [-6], [0], [0]])\n",
        "c = np.array([[R], [2*R+1]])\n",
        "soln = solvers.lp(matrix(c,tc='d'),matrix(A,tc='d'),matrix(b,tc='d'))"
      ],
      "metadata": {
        "id": "WqmWRERxg0Q7"
      },
      "execution_count": null,
      "outputs": []
    },
    {
      "cell_type": "code",
      "source": [
        "# dual of the problem\n",
        "# max -4*y1 + 24*y2 + 6*y3\n",
        "\n",
        "A = np.array([[-2, 3, 2], [-1, 4, -3], [-1, 0, 0], [0, -1, 0], [0, 0, -1]])\n",
        "b = np.array([[R], [2*R+1], [0], [0], [0]])\n",
        "c = np.array([[4], [-24], [-6]])\n",
        "soln = solvers.lp(matrix(c,tc='d'),matrix(A,tc='d'),matrix(b,tc='d'))"
      ],
      "metadata": {
        "id": "t9I6BJMChgzT"
      },
      "execution_count": null,
      "outputs": []
    },
    {
      "cell_type": "markdown",
      "source": [
        "#Question-12"
      ],
      "metadata": {
        "id": "A3AGK5eCyPS-"
      }
    },
    {
      "cell_type": "code",
      "source": [
        "# min 18x1 + x2\n",
        "\n",
        "A = np.array([[1, 2], [-4, -3], [3, 1], [-3, -1], [-1, 0], [0, -1]])\n",
        "b = np.array([[3], [-6], [3], [-3], [0], [0]])\n",
        "c = np.array([[R+3], [1]])\n",
        "soln = solvers.lp(matrix(c,tc='d'),matrix(A,tc='d'),matrix(b,tc='d'))\n",
        "sol_p = np.round(soln['primal objective'], decimals=5)\n",
        "print(np.round_(soln['x'],decimals=5))\n",
        "print(\"Minimum value is\",sol_p)"
      ],
      "metadata": {
        "id": "Bdx6TbTBiVEp"
      },
      "execution_count": null,
      "outputs": []
    },
    {
      "cell_type": "code",
      "source": [
        "# dual of the problem\n",
        "# max -3*y1 + 6*y2 + 3*y3 - 3*y4\n",
        "\n",
        "A = np.array([[-1, 4, 3, -3], [-2, 3, 1, -1], [-1, 0, 0, 0], [0, -1, 0, 0], [0, 0, -1, 0], [0, 0, 0, -1]])\n",
        "b = np.array([[R+3], [1], [0], [0], [0], [0]])\n",
        "c = np.array([[3], [-6], [-3], [3]])\n",
        "soln = solvers.lp(matrix(c,tc='d'),matrix(A,tc='d'),matrix(b,tc='d'))\n",
        "sol_d = np.round(-soln['primal objective'], decimals=5)\n",
        "print(np.round_(soln['x'],decimals=5))\n",
        "print(\"Maximum value is\", sol_d)"
      ],
      "metadata": {
        "id": "PTVb-3PvzIEh"
      },
      "execution_count": null,
      "outputs": []
    },
    {
      "cell_type": "code",
      "source": [
        "#duality gap\n",
        "\n",
        "duality_gap = np.round((sol_p - sol_d), decimals = 5)\n",
        "print(duality_gap)"
      ],
      "metadata": {
        "id": "ooKB2Og61YWj"
      },
      "execution_count": null,
      "outputs": []
    },
    {
      "cell_type": "markdown",
      "source": [
        "#Question-13"
      ],
      "metadata": {
        "id": "ymGePEaO19mh"
      }
    },
    {
      "cell_type": "code",
      "source": [
        "# min -3x1 + x2\n",
        "\n",
        "A = np.array([[1, 2], [-1, -2], [2, -2], [-2, 2], [-1, 0], [0, -1]])\n",
        "b = np.array([[0], [0], [9], [-9], [0], [0]])\n",
        "c = np.array([[-3], [1]])\n",
        "soln = solvers.lp(matrix(c,tc='d'),matrix(A,tc='d'),matrix(b,tc='d'))"
      ],
      "metadata": {
        "id": "ITK_QnRZ163i"
      },
      "execution_count": null,
      "outputs": []
    },
    {
      "cell_type": "code",
      "source": [
        "# dual of the problem\n",
        "# max 9*y3 - 9*y4\n",
        "\n",
        "A = np.array([[1, -1, 2, -2], [2, -2, -2, 2], [-1, 0, 0, 0], [0, -1, 0, 0], [0, 0, -1, 0], [0, 0, 0, -1]])\n",
        "b = np.array([[-3], [1], [0], [0], [0], [0]])\n",
        "c = np.array([[0], [0], [-9], [9]])\n",
        "soln = solvers.lp(matrix(c,tc='d'),matrix(A,tc='d'),matrix(b,tc='d'))\n",
        "sol_d = np.round(-soln['primal objective'], decimals=5)"
      ],
      "metadata": {
        "id": "Rm0Xd53l2gxp"
      },
      "execution_count": null,
      "outputs": []
    }
  ]
}