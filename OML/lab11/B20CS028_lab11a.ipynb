{
  "nbformat": 4,
  "nbformat_minor": 0,
  "metadata": {
    "colab": {
      "provenance": [],
      "collapsed_sections": [
        "uVmpmhMDTV8F",
        "v-a61o8RUPEi",
        "2f4MKanVVBC3",
        "rRYLtkTHVnSd"
      ]
    },
    "kernelspec": {
      "name": "python3",
      "display_name": "Python 3"
    },
    "language_info": {
      "name": "python"
    }
  },
  "cells": [
    {
      "cell_type": "markdown",
      "source": [
        "**Imports**"
      ],
      "metadata": {
        "id": "LvLtzOGteMXu"
      }
    },
    {
      "cell_type": "code",
      "source": [
        "pip install GEKKO"
      ],
      "metadata": {
        "colab": {
          "base_uri": "https://localhost:8080/"
        },
        "id": "sXaHlxd0u8qq",
        "outputId": "74f151be-4fe8-4105-9e7f-b3e2f0856feb"
      },
      "execution_count": null,
      "outputs": [
        {
          "output_type": "stream",
          "name": "stdout",
          "text": [
            "Collecting GEKKO\n",
            "  Downloading gekko-1.0.6-py3-none-any.whl (12.2 MB)\n",
            "\u001b[2K     \u001b[90m━━━━━━━━━━━━━━━━━━━━━━━━━━━━━━━━━━━━━━━━\u001b[0m \u001b[32m12.2/12.2 MB\u001b[0m \u001b[31m80.2 MB/s\u001b[0m eta \u001b[36m0:00:00\u001b[0m\n",
            "\u001b[?25hRequirement already satisfied: numpy>=1.8 in /usr/local/lib/python3.10/dist-packages (from GEKKO) (1.23.5)\n",
            "Installing collected packages: GEKKO\n",
            "Successfully installed GEKKO-1.0.6\n"
          ]
        }
      ]
    },
    {
      "cell_type": "code",
      "source": [
        "from gekko import GEKKO\n",
        "from numpy import *"
      ],
      "metadata": {
        "id": "AdGNW9YGTQxH"
      },
      "execution_count": null,
      "outputs": []
    },
    {
      "cell_type": "markdown",
      "source": [
        "##Qn1.1"
      ],
      "metadata": {
        "id": "uVmpmhMDTV8F"
      }
    },
    {
      "cell_type": "code",
      "source": [
        "# Create a GEKKO model\n",
        "m = GEKKO(remote=False)\n",
        "\n",
        "# Coefficients for the linear objective function\n",
        "c = array([[-9.0], [-5.0], [-6.0], [-4.0]])\n",
        "\n",
        "# Coefficients for the inequality constraints (Ax <= b)\n",
        "A = array([[-6, -3, -5, -2], [-1, 0, 0, -1], [1, 0, -1, 0], [0, 1, 0, -1]])\n",
        "b = array([[-10], [-1], [0], [0]])\n",
        "\n",
        "# Define binary decision variables\n",
        "x1 = m.Var(1, integer=True, lb=0, ub=1)\n",
        "x2 = m.Var(1, integer=True, lb=0, ub=1)\n",
        "x3 = m.Var(1, integer=True, lb=0, ub=1)\n",
        "x4 = m.Var(1, integer=True, lb=0, ub=1)\n",
        "\n",
        "# Collect decision variables into a list\n",
        "z = [x1, x2, x3, x4]\n",
        "\n",
        "# Set up the objective function (maximize)\n",
        "m.qobj(c, x=z, otype='min')\n",
        "\n",
        "# Set up the inequality constraints (Ax >= b)\n",
        "m.axb(A, b, x=z, etype='>=')\n",
        "\n",
        "# Set the solver option to use APOPT (IPOPT is also available)\n",
        "m.options.SOLVER = 1\n",
        "\n",
        "# Solve the optimization problem\n",
        "m.solve()\n",
        "\n",
        "# Display the results\n",
        "print('Objective: ', m.options.OBJFCNVAL)\n",
        "print('Optimal Solution:')\n",
        "print('x1 =', int(x1.value[0]))\n",
        "print('x2 =', int(x2.value[0]))\n",
        "print('x3 =', int(x3.value[0]))\n",
        "print('x4 =', int(x4.value[0]))"
      ],
      "metadata": {
        "colab": {
          "base_uri": "https://localhost:8080/"
        },
        "id": "RBBR45B0wRE5",
        "outputId": "0cadd188-5250-446c-d62d-f2d189b6b888"
      },
      "execution_count": null,
      "outputs": [
        {
          "output_type": "stream",
          "name": "stdout",
          "text": [
            "A\n",
            "[[-6. -3. -5. -2.]\n",
            " [-1.  0.  0. -1.]\n",
            " [ 1.  0. -1.  0.]\n",
            " [ 0.  1.  0. -1.]]\n",
            "b\n",
            "[[-10.  -1.   0.   0.]]\n",
            " ----------------------------------------------------------------\n",
            " APMonitor, Version 1.0.1\n",
            " APMonitor Optimization Suite\n",
            " ----------------------------------------------------------------\n",
            " \n",
            " \n",
            " --------- APM Model Size ------------\n",
            " Each time step contains\n",
            "   Objects      :            2\n",
            "   Constants    :            0\n",
            "   Variables    :            4\n",
            "   Intermediates:            0\n",
            "   Connections  :            8\n",
            "   Equations    :            0\n",
            "   Residuals    :            0\n",
            " \n",
            " Number of state variables:              4\n",
            " Number of total equations: -            4\n",
            " Number of slack variables: -            0\n",
            " ---------------------------------------\n",
            " Degrees of freedom       :              0\n",
            " \n",
            " ----------------------------------------------\n",
            " Steady State Optimization with APOPT Solver\n",
            " ----------------------------------------------\n",
            "Iter:     1 I:  0 Tm:      0.00 NLPi:    2 Dpth:    0 Lvs:    2 Obj: -1.52E+01 Gap:       NaN\n",
            "Iter:     2 I: -1 Tm:      0.00 NLPi:    1 Dpth:    1 Lvs:    1 Obj: -1.52E+01 Gap:       NaN\n",
            "--Integer Solution:  -1.40E+01 Lowest Leaf:  -1.40E+01 Gap:   0.00E+00\n",
            "Iter:     3 I:  0 Tm:      0.00 NLPi:    1 Dpth:    1 Lvs:    1 Obj: -1.40E+01 Gap:  0.00E+00\n",
            " Successful solution\n",
            " \n",
            " ---------------------------------------------------\n",
            " Solver         :  APOPT (v1.0)\n",
            " Solution time  :   2.089999999589054E-002 sec\n",
            " Objective      :   -14.0000000000000     \n",
            " Successful solution\n",
            " ---------------------------------------------------\n",
            " \n",
            "\n",
            "Objective:  -14.0\n",
            "Optimal Solution:\n",
            "x1 = 1\n",
            "x2 = 1\n",
            "x3 = 0\n",
            "x4 = 0\n"
          ]
        }
      ]
    },
    {
      "cell_type": "markdown",
      "source": [
        "##Qn1.2"
      ],
      "metadata": {
        "id": "v-a61o8RUPEi"
      }
    },
    {
      "cell_type": "code",
      "source": [
        "# Create a GEKKO model\n",
        "m = GEKKO(remote=False)\n",
        "\n",
        "# Coefficients for the linear objective function\n",
        "c = array([[-7.0], [-3.0]])\n",
        "\n",
        "# Coefficients for the inequality constraints (Ax <= b)\n",
        "A = array([[-5, -7], [-4, -1], [-3, 2]])\n",
        "b = array([[-27], [-14], [-9]])\n",
        "\n",
        "# Define binary and continuous decision variables\n",
        "x1 = m.Var(1, integer=True, lb=0)\n",
        "x2 = m.Var(1, integer=False, lb=0)\n",
        "\n",
        "# Collect decision variables into a list\n",
        "z = [x1, x2]\n",
        "\n",
        "# Set up the objective function (maximize)\n",
        "m.qobj(c, x=z, otype='min')\n",
        "\n",
        "# Set up the inequality constraints (Ax <= b)\n",
        "m.axb(A, b, x=z, etype='>=')\n",
        "\n",
        "# Set the solver option to use APOPT (IPOPT is also available)\n",
        "m.options.SOLVER = 1\n",
        "\n",
        "# Solve the optimization problem\n",
        "m.solve()\n",
        "\n",
        "# Display the results\n",
        "print('Objective: ', m.options.OBJFCNVAL)\n",
        "print('Optimal Solution:')\n",
        "print('x1 =', int(x1.value[0]))\n",
        "print('x2 =', int(x2.value[0]))"
      ],
      "metadata": {
        "colab": {
          "base_uri": "https://localhost:8080/"
        },
        "id": "1YW6crLPxPhh",
        "outputId": "c3d663ed-d864-4f9d-c617-aaa383721729"
      },
      "execution_count": null,
      "outputs": [
        {
          "output_type": "stream",
          "name": "stdout",
          "text": [
            "A\n",
            "[[-5. -7.]\n",
            " [-4. -1.]\n",
            " [-3.  2.]]\n",
            "b\n",
            "[[-27. -14.  -9.]]\n",
            " ----------------------------------------------------------------\n",
            " APMonitor, Version 1.0.1\n",
            " APMonitor Optimization Suite\n",
            " ----------------------------------------------------------------\n",
            " \n",
            " \n",
            " --------- APM Model Size ------------\n",
            " Each time step contains\n",
            "   Objects      :            2\n",
            "   Constants    :            0\n",
            "   Variables    :            2\n",
            "   Intermediates:            0\n",
            "   Connections  :            4\n",
            "   Equations    :            0\n",
            "   Residuals    :            0\n",
            " \n",
            " Number of state variables:              2\n",
            " Number of total equations: -            3\n",
            " Number of slack variables: -            0\n",
            " ---------------------------------------\n",
            " Degrees of freedom       :             -1\n",
            " \n",
            " * Warning: DOF <= 0\n",
            " ----------------------------------------------\n",
            " Steady State Optimization with APOPT Solver\n",
            " ----------------------------------------------\n",
            "Iter:     1 I:  0 Tm:      0.00 NLPi:    2 Dpth:    0 Lvs:    2 Obj: -2.66E+01 Gap:       NaN\n",
            "Iter:     2 I: -1 Tm:      0.00 NLPi:    1 Dpth:    1 Lvs:    1 Obj: -2.66E+01 Gap:       NaN\n",
            "--Integer Solution:  -2.61E+01 Lowest Leaf:  -2.61E+01 Gap:   0.00E+00\n",
            "Iter:     3 I:  0 Tm:      0.00 NLPi:    3 Dpth:    1 Lvs:    1 Obj: -2.61E+01 Gap:  0.00E+00\n",
            " Successful solution\n",
            " \n",
            " ---------------------------------------------------\n",
            " Solver         :  APOPT (v1.0)\n",
            " Solution time  :   2.010000000154832E-002 sec\n",
            " Objective      :   -26.1428571428571     \n",
            " Successful solution\n",
            " ---------------------------------------------------\n",
            " \n",
            "\n",
            "Objective:  -26.142857143\n",
            "Optimal Solution:\n",
            "x1 = 3\n",
            "x2 = 1\n"
          ]
        }
      ]
    },
    {
      "cell_type": "markdown",
      "source": [
        "##Qn1.3"
      ],
      "metadata": {
        "id": "2f4MKanVVBC3"
      }
    },
    {
      "cell_type": "code",
      "source": [
        "# Create a GEKKO model\n",
        "m = GEKKO(remote=False)\n",
        "\n",
        "# Coefficients for the linear objective function\n",
        "c = array([[1.0], [1.0]])\n",
        "\n",
        "# Coefficients for the inequality constraints (Ax <= b)\n",
        "A = array([[3, -2], [8, -10]])\n",
        "b = array([[1], [-10]])\n",
        "\n",
        "# Define continuous and binary decision variables\n",
        "x1 = m.Var(1, integer=False, lb=0.3)\n",
        "x2 = m.Var(1, integer=True, lb=0, ub=1)\n",
        "\n",
        "# Collect decision variables into a list\n",
        "z = [x1, x2]\n",
        "\n",
        "# Set up the objective function (minimize)\n",
        "m.qobj(c, x=z, otype='min')\n",
        "\n",
        "# Set up the inequality constraints (Ax <= b)\n",
        "m.axb(A, b, x=z, etype='>=')\n",
        "\n",
        "# Set the solver option to use APOPT (IPOPT is also available)\n",
        "m.options.SOLVER = 1\n",
        "\n",
        "# Solve the optimization problem\n",
        "m.solve()\n",
        "\n",
        "# Display the results\n",
        "print('Objective: ', m.options.OBJFCNVAL)\n",
        "print('Optimal Solution:')\n",
        "print('x1 =', x1.value[0])\n",
        "print('x2 =', int(x2.value[0]))"
      ],
      "metadata": {
        "colab": {
          "base_uri": "https://localhost:8080/"
        },
        "id": "xHQxqBD6VBc2",
        "outputId": "90a557a7-3ea6-4878-d70e-74aafd93bfdb"
      },
      "execution_count": null,
      "outputs": [
        {
          "output_type": "stream",
          "name": "stdout",
          "text": [
            "A\n",
            "[[  3.  -2.]\n",
            " [  8. -10.]]\n",
            "b\n",
            "[[  1. -10.]]\n",
            " ----------------------------------------------------------------\n",
            " APMonitor, Version 1.0.1\n",
            " APMonitor Optimization Suite\n",
            " ----------------------------------------------------------------\n",
            " \n",
            " \n",
            " --------- APM Model Size ------------\n",
            " Each time step contains\n",
            "   Objects      :            2\n",
            "   Constants    :            0\n",
            "   Variables    :            2\n",
            "   Intermediates:            0\n",
            "   Connections  :            4\n",
            "   Equations    :            0\n",
            "   Residuals    :            0\n",
            " \n",
            " Number of state variables:              2\n",
            " Number of total equations: -            2\n",
            " Number of slack variables: -            0\n",
            " ---------------------------------------\n",
            " Degrees of freedom       :              0\n",
            " \n",
            " ----------------------------------------------\n",
            " Steady State Optimization with APOPT Solver\n",
            " ----------------------------------------------\n",
            "Iter:     1 I:  0 Tm:      0.00 NLPi:    1 Dpth:    0 Lvs:    0 Obj:  3.33E-01 Gap:  0.00E+00\n",
            " Successful solution\n",
            " \n",
            " ---------------------------------------------------\n",
            " Solver         :  APOPT (v1.0)\n",
            " Solution time  :   2.070000000094296E-002 sec\n",
            " Objective      :   0.333333333333333     \n",
            " Successful solution\n",
            " ---------------------------------------------------\n",
            " \n",
            "\n",
            "Objective:  0.33333333333\n",
            "Optimal Solution:\n",
            "x1 = 0.33333333333\n",
            "x2 = 0\n"
          ]
        }
      ]
    },
    {
      "cell_type": "markdown",
      "source": [
        "##Qn1.4"
      ],
      "metadata": {
        "id": "rRYLtkTHVnSd"
      }
    },
    {
      "cell_type": "code",
      "source": [
        "# Create a GEKKO model\n",
        "m = GEKKO(remote=False)\n",
        "\n",
        "# Coefficients for the linear objective function\n",
        "c = array([[-120.0], [-85.0], [-105.0], [-140.0], [-70.0]])\n",
        "\n",
        "# Coefficients for the inequality constraints (Ax <= b)\n",
        "A = array([[-55, -45, -60, -50, -30], [-40, -35, -25, -35, -30], [-25, -20, -0, -30, -0]])\n",
        "b = array([[-150], [-110], [-60]])\n",
        "\n",
        "# Define binary decision variables\n",
        "x1 = m.Var(1, integer=True, lb=0, ub=1)\n",
        "x2 = m.Var(1, integer=True, lb=0, ub=1)\n",
        "x3 = m.Var(1, integer=True, lb=0, ub=1)\n",
        "x4 = m.Var(1, integer=True, lb=0, ub=1)\n",
        "x5 = m.Var(1, integer=True, lb=0, ub=1)\n",
        "\n",
        "# Collect decision variables into a list\n",
        "z = [x1, x2, x3, x4, x5]\n",
        "\n",
        "# Set up the objective function (maximize)\n",
        "m.qobj(c, x=z, otype='min')\n",
        "\n",
        "# Set up the inequality constraints (Ax <= b)\n",
        "m.axb(A, b, x=z, etype='>=')\n",
        "\n",
        "# Set the solver option to use APOPT (IPOPT is also available)\n",
        "m.options.SOLVER = 1\n",
        "\n",
        "# Solve the optimization problem\n",
        "m.solve()\n",
        "\n",
        "# Display the results\n",
        "print('Objective: ', m.options.OBJFCNVAL)\n",
        "print('Optimal Solution:')\n",
        "print('x1 =', int(x1.value[0]))\n",
        "print('x2 =', int(x2.value[0]))\n",
        "print('x3 =', int(x3.value[0]))\n",
        "print('x4 =', int(x4.value[0]))\n",
        "print('x5 =', int(x5.value[0]))"
      ],
      "metadata": {
        "colab": {
          "base_uri": "https://localhost:8080/"
        },
        "id": "yR3DjH8IVzry",
        "outputId": "ecd252c3-361d-46e5-9c36-2d3bc5be7e5e"
      },
      "execution_count": null,
      "outputs": [
        {
          "output_type": "stream",
          "name": "stdout",
          "text": [
            "A\n",
            "[[-55. -45. -60. -50. -30.]\n",
            " [-40. -35. -25. -35. -30.]\n",
            " [-25. -20.   0. -30.   0.]]\n",
            "b\n",
            "[[-150. -110.  -60.]]\n",
            " ----------------------------------------------------------------\n",
            " APMonitor, Version 1.0.1\n",
            " APMonitor Optimization Suite\n",
            " ----------------------------------------------------------------\n",
            " \n",
            " \n",
            " --------- APM Model Size ------------\n",
            " Each time step contains\n",
            "   Objects      :            2\n",
            "   Constants    :            0\n",
            "   Variables    :            5\n",
            "   Intermediates:            0\n",
            "   Connections  :           10\n",
            "   Equations    :            0\n",
            "   Residuals    :            0\n",
            " \n",
            " Number of state variables:              5\n",
            " Number of total equations: -            3\n",
            " Number of slack variables: -            0\n",
            " ---------------------------------------\n",
            " Degrees of freedom       :              2\n",
            " \n",
            " ----------------------------------------------\n",
            " Steady State Optimization with APOPT Solver\n",
            " ----------------------------------------------\n",
            "Iter:     1 I:  0 Tm:      0.00 NLPi:    2 Dpth:    0 Lvs:    3 Obj: -3.55E+02 Gap:       NaN\n",
            "--Integer Solution:  -3.30E+02 Lowest Leaf:  -3.55E+02 Gap:   7.30E-02\n",
            "Iter:     2 I:  0 Tm:      0.00 NLPi:    1 Dpth:    1 Lvs:    2 Obj: -3.30E+02 Gap:  7.30E-02\n",
            "Iter:     3 I:  0 Tm:      0.00 NLPi:    2 Dpth:    1 Lvs:    3 Obj: -3.37E+02 Gap:  7.30E-02\n",
            "Iter:     4 I:  0 Tm:      0.00 NLPi:    3 Dpth:    1 Lvs:    4 Obj: -3.42E+02 Gap:  7.30E-02\n",
            "Iter:     5 I:  0 Tm:      0.00 NLPi:    2 Dpth:    2 Lvs:    3 Obj: -3.29E+02 Gap:  7.30E-02\n",
            "--Integer Solution:  -3.30E+02 Lowest Leaf:  -3.37E+02 Gap:   2.04E-02\n",
            "Iter:     6 I:  0 Tm:      0.00 NLPi:    2 Dpth:    2 Lvs:    2 Obj: -3.30E+02 Gap:  2.04E-02\n",
            "Iter:     7 I:  0 Tm:      0.00 NLPi:    2 Dpth:    2 Lvs:    1 Obj: -3.23E+02 Gap:  2.04E-02\n",
            "Iter:     8 I:  0 Tm:      0.00 NLPi:    3 Dpth:    2 Lvs:    2 Obj: -3.34E+02 Gap:  2.04E-02\n",
            "Iter:     9 I:  0 Tm:      0.00 NLPi:    2 Dpth:    3 Lvs:    1 Obj: -3.16E+02 Gap:  2.04E-02\n",
            "--Integer Solution:  -3.30E+02 Lowest Leaf:  -3.15E+02 Gap:  -4.65E-02\n",
            "Iter:    10 I:  0 Tm:      0.00 NLPi:    1 Dpth:    3 Lvs:    1 Obj: -3.15E+02 Gap: -4.65E-02\n",
            " Successful solution\n",
            " \n",
            " ---------------------------------------------------\n",
            " Solver         :  APOPT (v1.0)\n",
            " Solution time  :   3.439999999682186E-002 sec\n",
            " Objective      :   -330.000000000000     \n",
            " Successful solution\n",
            " ---------------------------------------------------\n",
            " \n",
            "\n",
            "Objective:  -330.0\n",
            "Optimal Solution:\n",
            "x1 = 1\n",
            "x2 = 0\n",
            "x3 = 0\n",
            "x4 = 1\n",
            "x5 = 1\n"
          ]
        }
      ]
    }
  ]
}